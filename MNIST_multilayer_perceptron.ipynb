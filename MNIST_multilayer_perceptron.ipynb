{
 "cells": [
  {
   "cell_type": "markdown",
   "id": "aa71f9e7",
   "metadata": {},
   "source": [
    "# _That one_ MNIST Data Multilayer perceptron model"
   ]
  },
  {
   "cell_type": "markdown",
   "id": "4a0886b1",
   "metadata": {},
   "source": [
    "This notebook is actually an assignment for the MLP module in the Duke University's _Introduction to Machine Learning_ course on Coursera (great course by the way, check it out!). \n",
    "\n",
    "_For this assignment, we had to implement a multilayer perceptron to analyze the MNIST dataset. The input consisted of the usual 28×28 images. We had to use a hidden layer with 500 nodes using ReLU as the activation function, and an output layer with ten nodes. The chosen loss function was cross-entropy, so there was no need to apply softmax to the output._\n"
   ]
  },
  {
   "cell_type": "markdown",
   "id": "7960ad2f",
   "metadata": {},
   "source": [
    "### Imports"
   ]
  },
  {
   "cell_type": "code",
   "execution_count": 15,
   "id": "303603eb",
   "metadata": {},
   "outputs": [],
   "source": [
    "import numpy as np\n",
    "import torch\n",
    "import torch.nn.functional as F\n",
    "from torchvision import datasets, transforms\n",
    "\n",
    "\n",
    "#constants\n",
    "IMG_HEIGHT = 28\n",
    "IMG_WIDTH = 28\n",
    "IMG_SIZE_VEC = IMG_HEIGHT*IMG_WIDTH\n",
    "FIRST_LAYER_SIZE = 500\n",
    "OUTPUT_LAYER_SIZE = 10\n",
    "EPOCHS = 10"
   ]
  },
  {
   "cell_type": "markdown",
   "id": "fded0889",
   "metadata": {},
   "source": [
    "### Loading the MNIST data"
   ]
  },
  {
   "cell_type": "code",
   "execution_count": 16,
   "id": "4c2efbd3",
   "metadata": {},
   "outputs": [],
   "source": [
    "#load the data\n",
    "mnist_train = datasets.MNIST(root=\"./datasets\", train=True, \n",
    "                             transform=transforms.ToTensor(), download=True)\n",
    "mnist_test = datasets.MNIST(root=\"./datasets\", train=False, \n",
    "                            transform=transforms.ToTensor(), download=True)\n"
   ]
  },
  {
   "cell_type": "markdown",
   "id": "626879af",
   "metadata": {},
   "source": [
    "### Setting up batches"
   ]
  },
  {
   "cell_type": "code",
   "execution_count": null,
   "id": "55e52929",
   "metadata": {},
   "outputs": [
    {
     "name": "stdout",
     "output_type": "stream",
     "text": [
      "Image batches:   torch.Size([100, 1, 28, 28])\n",
      "Label batches:   torch.Size([100])\n"
     ]
    }
   ],
   "source": [
    "train_loader = torch.utils.data.DataLoader(mnist_train, batch_size=100, shuffle=True)\n",
    "test_loader = torch.utils.data.DataLoader(mnist_test, batch_size=100, shuffle=False)"
   ]
  },
  {
   "cell_type": "code",
   "execution_count": null,
   "id": "f7563f98",
   "metadata": {},
   "outputs": [
    {
     "name": "stdout",
     "output_type": "stream",
     "text": [
      "Image batch dimension:   torch.Size([100, 1, 28, 28])\n",
      "Label batch dimension:   torch.Size([100])\n"
     ]
    }
   ],
   "source": [
    "#making it concrete\n",
    "data_iterator = iter(train_loader)\n",
    "images, labels = next(data_iterator)\n",
    "\n",
    "print(\"Image batch dimension:  \", images.shape)\n",
    "print(\"Label batch dimension:  \", labels.shape)"
   ]
  },
  {
   "cell_type": "markdown",
   "id": "8baea314",
   "metadata": {},
   "source": [
    "### The actual code"
   ]
  },
  {
   "cell_type": "code",
   "execution_count": null,
   "id": "b507d380",
   "metadata": {},
   "outputs": [],
   "source": [
    "#definitions\n",
    "W1 = torch.randn(IMG_SIZE_VEC, FIRST_LAYER_SIZE)/np.sqrt(IMG_SIZE_VEC)\n",
    "W1.requires_grad_()\n",
    "b1 = torch.zeros(FIRST_LAYER_SIZE, requires_grad=True)\n",
    "\n",
    "W2 = torch.randn(FIRST_LAYER_SIZE, OUTPUT_LAYER_SIZE)/np.sqrt(FIRST_LAYER_SIZE)\n",
    "W2.requires_grad_()\n",
    "b2 = torch.zeros(OUTPUT_LAYER_SIZE, requires_grad=True)\n",
    "\n",
    "#minimization\n",
    "optimizer = torch.optim.SGD([W1,W2, b1, b2], lr=0.1)\n",
    "\n",
    "i = 0\n",
    "#go through each batch\n",
    "for epoch in range(EPOCHS):\n",
    "    i = 0\n",
    "    for images, labels in train_loader:\n",
    "        i += 1\n",
    "        if i%100 == 0: print(\"Epoch: {} | Batch number: {}\".format(epoch+1, i))\n",
    "            \n",
    "        #reset the gradient at each batch\n",
    "        optimizer.zero_grad()\n",
    "        \n",
    "        #the so called forward pass\n",
    "        #vectorize the images in the batches (100 batches, 28*28 components)\n",
    "        x = images.view(-1, IMG_SIZE_VEC)\n",
    "\n",
    "        #initial value for z\n",
    "        z = torch.matmul(x, W1) + b1\n",
    "\n",
    "        z = F.relu(z)\n",
    "\n",
    "        y = torch.matmul(z, W2) + b2\n",
    "        \n",
    "        #the loss function\n",
    "        cross_entropy = F.cross_entropy(y, labels)\n",
    "\n",
    "        #backward pass (actual minimization)\n",
    "        cross_entropy.backward()\n",
    "        optimizer.step()"
   ]
  },
  {
   "cell_type": "markdown",
   "id": "aee03647",
   "metadata": {},
   "source": [
    "### Testing!"
   ]
  },
  {
   "cell_type": "code",
   "execution_count": null,
   "id": "29379a4f",
   "metadata": {},
   "outputs": [
    {
     "name": "stdout",
     "output_type": "stream",
     "text": [
      "Test accuracy: 0.9740999937057495\n"
     ]
    }
   ],
   "source": [
    "correct = 0\n",
    "n_samples = len(mnist_test)\n",
    "\n",
    "with torch.no_grad():\n",
    "    #go through the test set minibatches \n",
    "    for images, labels in test_loader:\n",
    "        #forward pass\n",
    "        #vectorize it\n",
    "        x = images.view(-1, IMG_SIZE_VEC)\n",
    "\n",
    "        #calculate the prediction\n",
    "        z = torch.matmul(x, W1) + b1\n",
    "\n",
    "        z = F.relu(z)\n",
    "\n",
    "        y = torch.matmul(z, W2) + b2\n",
    "        \n",
    "        #get index of the biggest value of the vector y\n",
    "        #that is, it represents the digit the model think the \n",
    "        #image represents for each image int the batch\n",
    "\n",
    "        predictions = torch.argmax(y, dim=1)\n",
    "\n",
    "        #right predictions \"boolean\" vector\n",
    "        predictions_vec = (predictions == labels)\n",
    "        \n",
    "        correct += torch.sum(predictions_vec)\n",
    "    \n",
    "print('Test accuracy: {}'.format(correct/n_samples))\n",
    "#for 10 epochs accuracy is around 97% \n"
   ]
  }
 ],
 "metadata": {
  "kernelspec": {
   "display_name": ".venv",
   "language": "python",
   "name": "python3"
  },
  "language_info": {
   "codemirror_mode": {
    "name": "ipython",
    "version": 3
   },
   "file_extension": ".py",
   "mimetype": "text/x-python",
   "name": "python",
   "nbconvert_exporter": "python",
   "pygments_lexer": "ipython3",
   "version": "3.10.12"
  }
 },
 "nbformat": 4,
 "nbformat_minor": 5
}
