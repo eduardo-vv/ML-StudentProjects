{
 "cells": [
  {
   "cell_type": "markdown",
   "id": "0285dda8",
   "metadata": {},
   "source": [
    "# _That one_ MNIST Data Logistic Regression Model"
   ]
  },
  {
   "cell_type": "markdown",
   "id": "68513bda",
   "metadata": {},
   "source": [
    "This notebook is a product of my (derivative) work while enrolled in Duke University's _Introduction to Machine Learning_ course on Coursera (great course by the way!). "
   ]
  },
  {
   "cell_type": "markdown",
   "id": "357fda4b",
   "metadata": {},
   "source": [
    "### Imports"
   ]
  },
  {
   "cell_type": "code",
   "execution_count": 59,
   "id": "d32f8ab2",
   "metadata": {},
   "outputs": [],
   "source": [
    "import numpy as np\n",
    "import torch\n",
    "import torch.nn.functional as F\n",
    "import matplotlib.pyplot as plt\n",
    "from torchvision import datasets, transforms"
   ]
  },
  {
   "cell_type": "markdown",
   "id": "e23404b2",
   "metadata": {},
   "source": [
    "### Loading MNIST data"
   ]
  },
  {
   "cell_type": "code",
   "execution_count": 60,
   "id": "1795dfce",
   "metadata": {},
   "outputs": [],
   "source": [
    "mnist_train = datasets.MNIST(root=\"./datasets\", train=True, \n",
    "                             transform=transforms.ToTensor(), download=True)\n",
    "mnist_test = datasets.MNIST(root=\"./datasets\", train=False, \n",
    "                            transform=transforms.ToTensor(), download=True)"
   ]
  },
  {
   "cell_type": "markdown",
   "id": "da27eead",
   "metadata": {},
   "source": [
    "### Set up the batches"
   ]
  },
  {
   "cell_type": "code",
   "execution_count": 61,
   "id": "93975b81",
   "metadata": {},
   "outputs": [
    {
     "name": "stdout",
     "output_type": "stream",
     "text": [
      "Image batch dimension:   torch.Size([100, 1, 28, 28])\n",
      "Label batch dimension:   torch.Size([100])\n"
     ]
    }
   ],
   "source": [
    "train_loader = torch.utils.data.DataLoader(mnist_train, batch_size = 100, shuffle=True)\n",
    "test_loader = torch.utils.data.DataLoader(mnist_test, batch_size = 100, shuffle=False)\n",
    "\n",
    "#constants to avoid magic numbers\n",
    "IMG_HEIGHT = 28\n",
    "IMG_WIDTH = 28\n",
    "IMG_SIZE_VEC = IMG_HEIGHT*IMG_WIDTH\n",
    "OUTPUT_LAYER_SIZE = 10\n",
    "\n",
    "#making it concrete\n",
    "data_iterator = iter(train_loader)\n",
    "images, labels = next(data_iterator)\n",
    "\n",
    "print(\"Image batch dimension:  \", images.shape)\n",
    "print(\"Label batch dimension:  \", labels.shape)"
   ]
  },
  {
   "cell_type": "markdown",
   "id": "be498be5",
   "metadata": {},
   "source": [
    "### The code"
   ]
  },
  {
   "cell_type": "code",
   "execution_count": 62,
   "id": "a3f37616",
   "metadata": {},
   "outputs": [
    {
     "name": "stdout",
     "output_type": "stream",
     "text": [
      "Batch number: 100\n",
      "Batch number: 200\n",
      "Batch number: 300\n",
      "Batch number: 400\n",
      "Batch number: 500\n",
      "Batch number: 600\n"
     ]
    }
   ],
   "source": [
    "# definitions\n",
    "W = torch.randn(IMG_SIZE_VEC, OUTPUT_LAYER_SIZE)/np.sqrt(IMG_SIZE_VEC)\n",
    "W.requires_grad_()\n",
    "b = torch.zeros(OUTPUT_LAYER_SIZE, requires_grad=True)\n",
    "\n",
    "# minimization\n",
    "optimizer = torch.optim.SGD([W,b], lr=0.1)\n",
    "\n",
    "i = 0\n",
    "# go through each batch (600 batches -> 60000 images)\n",
    "for images, labels in train_loader:\n",
    "    i += 1\n",
    "    if i%100 == 0: print(\"Batch number: {}\".format(i))\n",
    "    # reset the gradient at each batch\n",
    "    optimizer.zero_grad()\n",
    "    \n",
    "    # the so called forward pass\n",
    "    # vectorize the images in the batches (100 batches, 28*28 components)\n",
    "    x = images.view(-1, IMG_SIZE_VEC)\n",
    "\n",
    "    # initial value for y\n",
    "    y = torch.matmul(x, W) + b\n",
    "    \n",
    "    # the loss function\n",
    "    cross_entropy = F.cross_entropy(y, labels)\n",
    "\n",
    "    # backward pass (the actual minimization)\n",
    "    cross_entropy.backward()\n",
    "    optimizer.step()"
   ]
  },
  {
   "cell_type": "markdown",
   "id": "ff3e0bfe",
   "metadata": {},
   "source": [
    "### Tests"
   ]
  },
  {
   "cell_type": "code",
   "execution_count": 63,
   "id": "33e8cfac",
   "metadata": {},
   "outputs": [
    {
     "name": "stdout",
     "output_type": "stream",
     "text": [
      "Test accuracy: 0.9020000100135803\n"
     ]
    }
   ],
   "source": [
    "correct = 0\n",
    "n_samples = len(mnist_test)\n",
    "\n",
    "with torch.no_grad():\n",
    "    # go through the test set minibatches \n",
    "    for images, labels in test_loader:\n",
    "        # forward pass\n",
    "        # vectorize it\n",
    "        x = images.view(-1, IMG_SIZE_VEC) #(100, 28*28)\n",
    "        \n",
    "        #calculate the prediction\n",
    "        y = torch.matmul(x, W) + b\n",
    "        \n",
    "        # get index of the biggest value of the vector y\n",
    "        # that is, it represents the digit the model think the \n",
    "        # image represents for each image int the batch\n",
    "        predictions = torch.argmax(y, dim=1)\n",
    "        \n",
    "        #right predictions \"boolean\" vector\n",
    "        predictions_vec = (predictions == labels)\n",
    "        \n",
    "        correct += torch.sum(predictions_vec)\n",
    "    \n",
    "print('Test accuracy: {}'.format(correct/n_samples))"
   ]
  },
  {
   "cell_type": "markdown",
   "id": "c0682793",
   "metadata": {},
   "source": [
    "### Visualizing the parameters"
   ]
  },
  {
   "cell_type": "code",
   "execution_count": null,
   "id": "b4abf530",
   "metadata": {},
   "outputs": [
    {
     "ename": "KeyError",
     "evalue": "'R'",
     "output_type": "error",
     "traceback": [
      "\u001b[0;31m---------------------------------------------------------------------------\u001b[0m",
      "\u001b[0;31mKeyError\u001b[0m                                  Traceback (most recent call last)",
      "Cell \u001b[0;32mIn[85], line 6\u001b[0m\n\u001b[1;32m      4\u001b[0m w_i \u001b[38;5;241m=\u001b[39m W[:, i]\u001b[38;5;241m.\u001b[39mdetach()\n\u001b[1;32m      5\u001b[0m ax[i]\u001b[38;5;241m.\u001b[39mimshow(w_i\u001b[38;5;241m.\u001b[39mview(\u001b[38;5;241m28\u001b[39m,\u001b[38;5;241m28\u001b[39m), cmap\u001b[38;5;241m=\u001b[39m\u001b[38;5;124m'\u001b[39m\u001b[38;5;124mgray\u001b[39m\u001b[38;5;124m'\u001b[39m, label \u001b[38;5;241m=\u001b[39m \u001b[38;5;124m\"\u001b[39m\u001b[38;5;132;01m{}\u001b[39;00m\u001b[38;5;124m\"\u001b[39m\u001b[38;5;241m.\u001b[39mformat(i))\n\u001b[0;32m----> 6\u001b[0m ax[i]\u001b[38;5;241m.\u001b[39mset_title(\u001b[38;5;124;43mr\u001b[39;49m\u001b[38;5;124;43m\"\u001b[39;49m\u001b[38;5;124;43m$col_\u001b[39;49m\u001b[38;5;132;43;01m{}\u001b[39;49;00m\u001b[38;5;124;43m(W)\u001b[39;49m\u001b[38;5;124;43m\\\u001b[39;49m\u001b[38;5;124;43mto \u001b[39;49m\u001b[38;5;124;43m\\\u001b[39;49m\u001b[38;5;124;43mmathbb\u001b[39;49m\u001b[38;5;132;43;01m{R}\u001b[39;49;00m\u001b[38;5;124;43m^\u001b[39;49m\u001b[38;5;124;43m{{\u001b[39;49m\u001b[38;5;124;43m28\u001b[39;49m\u001b[38;5;124;43m\\\u001b[39;49m\u001b[38;5;124;43mtimes 28}}$\u001b[39;49m\u001b[38;5;124;43m\"\u001b[39;49m\u001b[38;5;241;43m.\u001b[39;49m\u001b[43mformat\u001b[49m\u001b[43m(\u001b[49m\u001b[43mi\u001b[49m\u001b[43m)\u001b[49m)\n",
      "\u001b[0;31mKeyError\u001b[0m: 'R'"
     ]
    },
    {
     "data": {
      "image/png": "[encoded data removed]",
      "text/plain": [
       "<Figure size 2000x200 with 10 Axes>"
      ]
     },
     "metadata": {},
     "output_type": "display_data"
    }
   ],
   "source": [
    "fig, ax = plt.subplots(1, 10, figsize=(20, 2))\n",
    "fig.tight_layout()\n",
    "for i in range(10):\n",
    "    w_i = W[:, i].detach()\n",
    "    ax[i].imshow(w_i.view(28,28), cmap='gray', label = \"{}\".format(i))\n",
    "    ax[i].set_title(r\"$col_{}(W)\\to \\mathbb{{R}}^{{28\\times 28}}$\".format(i))"
   ]
  }
 ],
 "metadata": {
  "kernelspec": {
   "display_name": ".venv",
   "language": "python",
   "name": "python3"
  },
  "language_info": {
   "codemirror_mode": {
    "name": "ipython",
    "version": 3
   },
   "file_extension": ".py",
   "mimetype": "text/x-python",
   "name": "python",
   "nbconvert_exporter": "python",
   "pygments_lexer": "ipython3",
   "version": "3.10.12"
  }
 },
 "nbformat": 4,
 "nbformat_minor": 5
}
